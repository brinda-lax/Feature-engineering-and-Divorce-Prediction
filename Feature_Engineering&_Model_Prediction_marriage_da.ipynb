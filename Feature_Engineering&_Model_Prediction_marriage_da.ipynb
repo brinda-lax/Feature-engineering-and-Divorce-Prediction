{
  "metadata": {
    "kernelspec": {
      "language": "python",
      "display_name": "Python 3",
      "name": "python3"
    },
    "language_info": {
      "name": "python",
      "version": "3.10.12",
      "mimetype": "text/x-python",
      "codemirror_mode": {
        "name": "ipython",
        "version": 3
      },
      "pygments_lexer": "ipython3",
      "nbconvert_exporter": "python",
      "file_extension": ".py"
    },
    "kaggle": {
      "accelerator": "none",
      "dataSources": [
        {
          "sourceId": 10769635,
          "sourceType": "datasetVersion",
          "datasetId": 6680932
        }
      ],
      "dockerImageVersionId": 30918,
      "isInternetEnabled": true,
      "language": "python",
      "sourceType": "notebook",
      "isGpuEnabled": false
    },
    "colab": {
      "name": "Feature Engineering& Model Prediction -marriage da",
      "provenance": [],
      "include_colab_link": true
    }
  },
  "nbformat_minor": 0,
  "nbformat": 4,
  "cells": [
    {
      "cell_type": "markdown",
      "metadata": {
        "id": "view-in-github",
        "colab_type": "text"
      },
      "source": [
        "<a href=\"https://colab.research.google.com/github/brinda-lax/Feature-engineering-and-Divorce-Prediction/blob/main/Feature_Engineering%26_Model_Prediction_marriage_da.ipynb\" target=\"_parent\"><img src=\"https://colab.research.google.com/assets/colab-badge.svg\" alt=\"Open In Colab\"/></a>"
      ]
    },
    {
      "source": [
        "# IMPORTANT: RUN THIS CELL IN ORDER TO IMPORT YOUR KAGGLE DATA SOURCES,\n",
        "# THEN FEEL FREE TO DELETE THIS CELL.\n",
        "# NOTE: THIS NOTEBOOK ENVIRONMENT DIFFERS FROM KAGGLE'S PYTHON\n",
        "# ENVIRONMENT SO THERE MAY BE MISSING LIBRARIES USED BY YOUR\n",
        "# NOTEBOOK.\n",
        "import kagglehub\n",
        "ak0212_marriage_trends_in_india_love_vs_arranged_path = kagglehub.dataset_download('ak0212/marriage-trends-in-india-love-vs-arranged')\n",
        "\n",
        "print('Data source import complete.')\n"
      ],
      "metadata": {
        "id": "m3qr0vTMQTyk"
      },
      "cell_type": "code",
      "outputs": [],
      "execution_count": null
    },
    {
      "cell_type": "code",
      "source": [
        "# This Python 3 environment comes with many helpful analytics libraries installed\n",
        "# It is defined by the kaggle/python Docker image: https://github.com/kaggle/docker-python\n",
        "# For example, here's several helpful packages to load\n",
        "\n",
        "import numpy as np # linear algebra\n",
        "import pandas as pd # data processing, CSV file I/O (e.g. pd.read_csv)\n",
        "\n",
        "# Input data files are available in the read-only \"../input/\" directory\n",
        "# For example, running this (by clicking run or pressing Shift+Enter) will list all files under the input directory\n",
        "\n",
        "import os\n",
        "for dirname, _, filenames in os.walk('/kaggle/input'):\n",
        "    for filename in filenames:\n",
        "        print(os.path.join(dirname, filename))\n",
        "\n",
        "# You can write up to 20GB to the current directory (/kaggle/working/) that gets preserved as output when you create a version using \"Save & Run All\"\n",
        "# You can also write temporary files to /kaggle/temp/, but they won't be saved outside of the current session"
      ],
      "metadata": {
        "_uuid": "8f2839f25d086af736a60e9eeb907d3b93b6e0e5",
        "_cell_guid": "b1076dfc-b9ad-4769-8c92-a6c4dae69d19",
        "trusted": true,
        "execution": {
          "iopub.status.busy": "2025-03-14T12:13:49.910802Z",
          "iopub.execute_input": "2025-03-14T12:13:49.911151Z",
          "iopub.status.idle": "2025-03-14T12:13:50.349493Z",
          "shell.execute_reply.started": "2025-03-14T12:13:49.911124Z",
          "shell.execute_reply": "2025-03-14T12:13:50.348169Z"
        },
        "id": "wUibRc1JQTyn"
      },
      "outputs": [],
      "execution_count": null
    },
    {
      "cell_type": "markdown",
      "source": [
        "## Importing Mandatory Libraries"
      ],
      "metadata": {
        "id": "A32INJmIQTyo"
      }
    },
    {
      "cell_type": "code",
      "source": [
        "import pandas as pd\n",
        "import numpy as np\n",
        "import matplotlib.pyplot as plt\n",
        "from sklearn.compose import ColumnTransformer\n",
        "from sklearn.preprocessing import OneHotEncoder,OrdinalEncoder,LabelEncoder\n",
        "from sklearn.ensemble import RandomForestClassifier"
      ],
      "metadata": {
        "trusted": true,
        "id": "XxqP9yO6QTyq"
      },
      "outputs": [],
      "execution_count": 2
    },
    {
      "cell_type": "markdown",
      "source": [
        "## Reading The DataFrame"
      ],
      "metadata": {
        "id": "ENSRcvqzQTyr"
      }
    },
    {
      "cell_type": "code",
      "source": [
        "df=pd.read_csv('/content/sample_data/marriage_data_india.csv')"
      ],
      "metadata": {
        "trusted": true,
        "execution": {
          "iopub.status.busy": "2025-03-14T12:13:57.025947Z",
          "iopub.execute_input": "2025-03-14T12:13:57.026536Z",
          "iopub.status.idle": "2025-03-14T12:13:57.087898Z",
          "shell.execute_reply.started": "2025-03-14T12:13:57.026506Z",
          "shell.execute_reply": "2025-03-14T12:13:57.086818Z"
        },
        "id": "d7e5MhfuQTys"
      },
      "outputs": [],
      "execution_count": 3
    },
    {
      "cell_type": "code",
      "source": [
        "df.columns"
      ],
      "metadata": {
        "trusted": true,
        "execution": {
          "iopub.status.busy": "2025-03-13T13:26:35.610674Z",
          "iopub.execute_input": "2025-03-13T13:26:35.611052Z",
          "iopub.status.idle": "2025-03-13T13:26:35.61997Z",
          "shell.execute_reply.started": "2025-03-13T13:26:35.611026Z",
          "shell.execute_reply": "2025-03-13T13:26:35.618574Z"
        },
        "id": "PEW_LemaQTyt",
        "outputId": "5a842355-4306-4093-bdf3-48cd52335808",
        "colab": {
          "base_uri": "https://localhost:8080/"
        }
      },
      "outputs": [
        {
          "output_type": "execute_result",
          "data": {
            "text/plain": [
              "Index(['ID', 'Marriage_Type', 'Age_at_Marriage', 'Gender', 'Education_Level',\n",
              "       'Caste_Match', 'Religion', 'Parental_Approval', 'Urban_Rural',\n",
              "       'Dowry_Exchanged', 'Marital_Satisfaction', 'Divorce_Status',\n",
              "       'Children_Count', 'Income_Level', 'Years_Since_Marriage',\n",
              "       'Spouse_Working', 'Inter-Caste', 'Inter-Religion'],\n",
              "      dtype='object')"
            ]
          },
          "metadata": {},
          "execution_count": 4
        }
      ],
      "execution_count": 4
    },
    {
      "cell_type": "markdown",
      "source": [
        "## Checking null values"
      ],
      "metadata": {
        "id": "O1bsg9Q0QTyu"
      }
    },
    {
      "cell_type": "code",
      "source": [
        "df.isnull().sum()"
      ],
      "metadata": {
        "trusted": true,
        "execution": {
          "iopub.status.busy": "2025-03-14T12:14:03.594377Z",
          "iopub.execute_input": "2025-03-14T12:14:03.594698Z",
          "iopub.status.idle": "2025-03-14T12:14:03.617158Z",
          "shell.execute_reply.started": "2025-03-14T12:14:03.594673Z",
          "shell.execute_reply": "2025-03-14T12:14:03.616354Z"
        },
        "id": "xRs-PnktQTyv",
        "outputId": "6b0c8075-bf5a-4c0e-c02a-f0cc6a55fff3",
        "colab": {
          "base_uri": "https://localhost:8080/",
          "height": 648
        }
      },
      "outputs": [
        {
          "output_type": "execute_result",
          "data": {
            "text/plain": [
              "ID                      0\n",
              "Marriage_Type           0\n",
              "Age_at_Marriage         0\n",
              "Gender                  0\n",
              "Education_Level         0\n",
              "Caste_Match             0\n",
              "Religion                0\n",
              "Parental_Approval       0\n",
              "Urban_Rural             0\n",
              "Dowry_Exchanged         0\n",
              "Marital_Satisfaction    0\n",
              "Divorce_Status          0\n",
              "Children_Count          0\n",
              "Income_Level            0\n",
              "Years_Since_Marriage    0\n",
              "Spouse_Working          0\n",
              "Inter-Caste             0\n",
              "Inter-Religion          0\n",
              "dtype: int64"
            ],
            "text/html": [
              "<div>\n",
              "<style scoped>\n",
              "    .dataframe tbody tr th:only-of-type {\n",
              "        vertical-align: middle;\n",
              "    }\n",
              "\n",
              "    .dataframe tbody tr th {\n",
              "        vertical-align: top;\n",
              "    }\n",
              "\n",
              "    .dataframe thead th {\n",
              "        text-align: right;\n",
              "    }\n",
              "</style>\n",
              "<table border=\"1\" class=\"dataframe\">\n",
              "  <thead>\n",
              "    <tr style=\"text-align: right;\">\n",
              "      <th></th>\n",
              "      <th>0</th>\n",
              "    </tr>\n",
              "  </thead>\n",
              "  <tbody>\n",
              "    <tr>\n",
              "      <th>ID</th>\n",
              "      <td>0</td>\n",
              "    </tr>\n",
              "    <tr>\n",
              "      <th>Marriage_Type</th>\n",
              "      <td>0</td>\n",
              "    </tr>\n",
              "    <tr>\n",
              "      <th>Age_at_Marriage</th>\n",
              "      <td>0</td>\n",
              "    </tr>\n",
              "    <tr>\n",
              "      <th>Gender</th>\n",
              "      <td>0</td>\n",
              "    </tr>\n",
              "    <tr>\n",
              "      <th>Education_Level</th>\n",
              "      <td>0</td>\n",
              "    </tr>\n",
              "    <tr>\n",
              "      <th>Caste_Match</th>\n",
              "      <td>0</td>\n",
              "    </tr>\n",
              "    <tr>\n",
              "      <th>Religion</th>\n",
              "      <td>0</td>\n",
              "    </tr>\n",
              "    <tr>\n",
              "      <th>Parental_Approval</th>\n",
              "      <td>0</td>\n",
              "    </tr>\n",
              "    <tr>\n",
              "      <th>Urban_Rural</th>\n",
              "      <td>0</td>\n",
              "    </tr>\n",
              "    <tr>\n",
              "      <th>Dowry_Exchanged</th>\n",
              "      <td>0</td>\n",
              "    </tr>\n",
              "    <tr>\n",
              "      <th>Marital_Satisfaction</th>\n",
              "      <td>0</td>\n",
              "    </tr>\n",
              "    <tr>\n",
              "      <th>Divorce_Status</th>\n",
              "      <td>0</td>\n",
              "    </tr>\n",
              "    <tr>\n",
              "      <th>Children_Count</th>\n",
              "      <td>0</td>\n",
              "    </tr>\n",
              "    <tr>\n",
              "      <th>Income_Level</th>\n",
              "      <td>0</td>\n",
              "    </tr>\n",
              "    <tr>\n",
              "      <th>Years_Since_Marriage</th>\n",
              "      <td>0</td>\n",
              "    </tr>\n",
              "    <tr>\n",
              "      <th>Spouse_Working</th>\n",
              "      <td>0</td>\n",
              "    </tr>\n",
              "    <tr>\n",
              "      <th>Inter-Caste</th>\n",
              "      <td>0</td>\n",
              "    </tr>\n",
              "    <tr>\n",
              "      <th>Inter-Religion</th>\n",
              "      <td>0</td>\n",
              "    </tr>\n",
              "  </tbody>\n",
              "</table>\n",
              "</div><br><label><b>dtype:</b> int64</label>"
            ]
          },
          "metadata": {},
          "execution_count": 5
        }
      ],
      "execution_count": 5
    },
    {
      "cell_type": "markdown",
      "source": [
        "## Code to check the columns whether they belong to Ordinal or One hot encoding"
      ],
      "metadata": {
        "id": "nuuBUnxRQTyv"
      }
    },
    {
      "cell_type": "code",
      "source": [
        "df['Inter-Religion'].value_counts()"
      ],
      "metadata": {
        "trusted": true,
        "execution": {
          "iopub.status.busy": "2025-03-14T12:20:24.970527Z",
          "iopub.execute_input": "2025-03-14T12:20:24.97096Z",
          "iopub.status.idle": "2025-03-14T12:20:24.983417Z",
          "shell.execute_reply.started": "2025-03-14T12:20:24.970927Z",
          "shell.execute_reply": "2025-03-14T12:20:24.981701Z"
        },
        "id": "-qH-0wPeQTyw",
        "outputId": "013aab8a-2067-47ca-c643-2848dc453648",
        "colab": {
          "base_uri": "https://localhost:8080/",
          "height": 178
        }
      },
      "outputs": [
        {
          "output_type": "execute_result",
          "data": {
            "text/plain": [
              "Inter-Religion\n",
              "No     7972\n",
              "Yes    2028\n",
              "Name: count, dtype: int64"
            ],
            "text/html": [
              "<div>\n",
              "<style scoped>\n",
              "    .dataframe tbody tr th:only-of-type {\n",
              "        vertical-align: middle;\n",
              "    }\n",
              "\n",
              "    .dataframe tbody tr th {\n",
              "        vertical-align: top;\n",
              "    }\n",
              "\n",
              "    .dataframe thead th {\n",
              "        text-align: right;\n",
              "    }\n",
              "</style>\n",
              "<table border=\"1\" class=\"dataframe\">\n",
              "  <thead>\n",
              "    <tr style=\"text-align: right;\">\n",
              "      <th></th>\n",
              "      <th>count</th>\n",
              "    </tr>\n",
              "    <tr>\n",
              "      <th>Inter-Religion</th>\n",
              "      <th></th>\n",
              "    </tr>\n",
              "  </thead>\n",
              "  <tbody>\n",
              "    <tr>\n",
              "      <th>No</th>\n",
              "      <td>7972</td>\n",
              "    </tr>\n",
              "    <tr>\n",
              "      <th>Yes</th>\n",
              "      <td>2028</td>\n",
              "    </tr>\n",
              "  </tbody>\n",
              "</table>\n",
              "</div><br><label><b>dtype:</b> int64</label>"
            ]
          },
          "metadata": {},
          "execution_count": 6
        }
      ],
      "execution_count": 6
    },
    {
      "cell_type": "markdown",
      "source": [],
      "metadata": {
        "id": "ZbGAUk_aQTyw"
      }
    },
    {
      "cell_type": "code",
      "source": [
        "df['Divorce_Status'].value_counts()"
      ],
      "metadata": {
        "trusted": true,
        "execution": {
          "iopub.status.busy": "2025-03-14T12:14:07.586191Z",
          "iopub.execute_input": "2025-03-14T12:14:07.586572Z",
          "iopub.status.idle": "2025-03-14T12:14:07.598819Z",
          "shell.execute_reply.started": "2025-03-14T12:14:07.586543Z",
          "shell.execute_reply": "2025-03-14T12:14:07.597621Z"
        },
        "id": "xpAmAZmzQTyx",
        "outputId": "b855c226-3a54-46e9-ee43-1f994df0fbfc",
        "colab": {
          "base_uri": "https://localhost:8080/",
          "height": 178
        }
      },
      "outputs": [
        {
          "output_type": "execute_result",
          "data": {
            "text/plain": [
              "Divorce_Status\n",
              "No     8999\n",
              "Yes    1001\n",
              "Name: count, dtype: int64"
            ],
            "text/html": [
              "<div>\n",
              "<style scoped>\n",
              "    .dataframe tbody tr th:only-of-type {\n",
              "        vertical-align: middle;\n",
              "    }\n",
              "\n",
              "    .dataframe tbody tr th {\n",
              "        vertical-align: top;\n",
              "    }\n",
              "\n",
              "    .dataframe thead th {\n",
              "        text-align: right;\n",
              "    }\n",
              "</style>\n",
              "<table border=\"1\" class=\"dataframe\">\n",
              "  <thead>\n",
              "    <tr style=\"text-align: right;\">\n",
              "      <th></th>\n",
              "      <th>count</th>\n",
              "    </tr>\n",
              "    <tr>\n",
              "      <th>Divorce_Status</th>\n",
              "      <th></th>\n",
              "    </tr>\n",
              "  </thead>\n",
              "  <tbody>\n",
              "    <tr>\n",
              "      <th>No</th>\n",
              "      <td>8999</td>\n",
              "    </tr>\n",
              "    <tr>\n",
              "      <th>Yes</th>\n",
              "      <td>1001</td>\n",
              "    </tr>\n",
              "  </tbody>\n",
              "</table>\n",
              "</div><br><label><b>dtype:</b> int64</label>"
            ]
          },
          "metadata": {},
          "execution_count": 7
        }
      ],
      "execution_count": 7
    },
    {
      "cell_type": "markdown",
      "source": [
        "## Segregating Columns For Encoding"
      ],
      "metadata": {
        "id": "5lSC4zo7QTyx"
      }
    },
    {
      "cell_type": "code",
      "source": [
        "columns_to_ohe = [1, 3, 5, 6, 7, 8, 9,13, 15,16,17]\n",
        "\n",
        "columns_to_ode=[4,10]"
      ],
      "metadata": {
        "trusted": true,
        "execution": {
          "iopub.status.busy": "2025-03-14T12:14:10.584816Z",
          "iopub.execute_input": "2025-03-14T12:14:10.585268Z",
          "iopub.status.idle": "2025-03-14T12:14:10.590792Z",
          "shell.execute_reply.started": "2025-03-14T12:14:10.585187Z",
          "shell.execute_reply": "2025-03-14T12:14:10.589424Z"
        },
        "id": "AJhSJlrWQTyy"
      },
      "outputs": [],
      "execution_count": 11
    },
    {
      "cell_type": "code",
      "source": [
        "numerical_columns=['Age_at_Marriage','Years_Since_Marriage']"
      ],
      "metadata": {
        "trusted": true,
        "execution": {
          "iopub.status.busy": "2025-03-14T12:14:13.478548Z",
          "iopub.execute_input": "2025-03-14T12:14:13.478942Z",
          "iopub.status.idle": "2025-03-14T12:14:13.484789Z",
          "shell.execute_reply.started": "2025-03-14T12:14:13.478914Z",
          "shell.execute_reply": "2025-03-14T12:14:13.483358Z"
        },
        "id": "_l79FBadQTyz"
      },
      "outputs": [],
      "execution_count": 12
    },
    {
      "cell_type": "code",
      "source": [
        "df['Children_Count'].value_counts().sort_index()"
      ],
      "metadata": {
        "trusted": true,
        "execution": {
          "iopub.status.busy": "2025-03-14T12:14:15.422705Z",
          "iopub.execute_input": "2025-03-14T12:14:15.423124Z",
          "iopub.status.idle": "2025-03-14T12:14:15.440352Z",
          "shell.execute_reply.started": "2025-03-14T12:14:15.423091Z",
          "shell.execute_reply": "2025-03-14T12:14:15.439279Z"
        },
        "id": "J1g0M7nsQTy0",
        "outputId": "0fdc169f-c723-4fff-e6f1-c9b2a11e35a9",
        "colab": {
          "base_uri": "https://localhost:8080/",
          "height": 303
        }
      },
      "outputs": [
        {
          "output_type": "execute_result",
          "data": {
            "text/plain": [
              "Children_Count\n",
              "0    1590\n",
              "1    1731\n",
              "2    1654\n",
              "3    1698\n",
              "4    1680\n",
              "5    1647\n",
              "Name: count, dtype: int64"
            ],
            "text/html": [
              "<div>\n",
              "<style scoped>\n",
              "    .dataframe tbody tr th:only-of-type {\n",
              "        vertical-align: middle;\n",
              "    }\n",
              "\n",
              "    .dataframe tbody tr th {\n",
              "        vertical-align: top;\n",
              "    }\n",
              "\n",
              "    .dataframe thead th {\n",
              "        text-align: right;\n",
              "    }\n",
              "</style>\n",
              "<table border=\"1\" class=\"dataframe\">\n",
              "  <thead>\n",
              "    <tr style=\"text-align: right;\">\n",
              "      <th></th>\n",
              "      <th>count</th>\n",
              "    </tr>\n",
              "    <tr>\n",
              "      <th>Children_Count</th>\n",
              "      <th></th>\n",
              "    </tr>\n",
              "  </thead>\n",
              "  <tbody>\n",
              "    <tr>\n",
              "      <th>0</th>\n",
              "      <td>1590</td>\n",
              "    </tr>\n",
              "    <tr>\n",
              "      <th>1</th>\n",
              "      <td>1731</td>\n",
              "    </tr>\n",
              "    <tr>\n",
              "      <th>2</th>\n",
              "      <td>1654</td>\n",
              "    </tr>\n",
              "    <tr>\n",
              "      <th>3</th>\n",
              "      <td>1698</td>\n",
              "    </tr>\n",
              "    <tr>\n",
              "      <th>4</th>\n",
              "      <td>1680</td>\n",
              "    </tr>\n",
              "    <tr>\n",
              "      <th>5</th>\n",
              "      <td>1647</td>\n",
              "    </tr>\n",
              "  </tbody>\n",
              "</table>\n",
              "</div><br><label><b>dtype:</b> int64</label>"
            ]
          },
          "metadata": {},
          "execution_count": 13
        }
      ],
      "execution_count": 13
    },
    {
      "cell_type": "markdown",
      "source": [
        "## Testing Outliers Presence using Box plot"
      ],
      "metadata": {
        "id": "DSAromagQTy1"
      }
    },
    {
      "cell_type": "code",
      "source": [
        "import seaborn as sns\n",
        "import matplotlib.pyplot as plt\n",
        "\n",
        "for i in numerical_columns:\n",
        "    plt.figure(figsize=(3,3))\n",
        "    sns.boxplot(df[i])\n",
        "    plt.show()"
      ],
      "metadata": {
        "trusted": true,
        "execution": {
          "iopub.status.busy": "2025-03-14T12:15:32.704786Z",
          "iopub.execute_input": "2025-03-14T12:15:32.705267Z",
          "iopub.status.idle": "2025-03-14T12:15:32.944887Z",
          "shell.execute_reply.started": "2025-03-14T12:15:32.705229Z",
          "shell.execute_reply": "2025-03-14T12:15:32.943655Z"
        },
        "id": "GFjgmjuoQTy1",
        "outputId": "a3ef4c76-6223-4835-933c-01cf418ee204",
        "colab": {
          "base_uri": "https://localhost:8080/",
          "height": 532
        }
      },
      "outputs": [
        {
          "output_type": "display_data",
          "data": {
            "text/plain": [
              "<Figure size 300x300 with 1 Axes>"
            ],
            "image/png": "[encoded data removed]"
          },
          "metadata": {}
        },
        {
          "output_type": "display_data",
          "data": {
            "text/plain": [
              "<Figure size 300x300 with 1 Axes>"
            ],
            "image/png": "[encoded data removed]"
          },
          "metadata": {}
        }
      ],
      "execution_count": 14
    },
    {
      "cell_type": "markdown",
      "source": [
        "## To Check Normalization in numerical data"
      ],
      "metadata": {
        "id": "ObD8CVv8QTy1"
      }
    },
    {
      "cell_type": "markdown",
      "source": [
        "Normalization checking is important because it helps ensure that your data is in the right \"shape\" for your chosen algorithms. Here are some key reasons:\n",
        "\n",
        "Algorithm Assumptions:\n",
        "Many statistical models and machine learning algorithms (e.g., linear regression, logistic regression, k-nearest neighbors, and neural networks) assume that the data is normally distributed or that all features are on a similar scale. If these assumptions aren’t met, the model’s performance can suffer.\n",
        "\n",
        "Improved Convergence and Performance:\n",
        "Normalizing data (scaling features to a common range or transforming distributions to be more normal) can help gradient-based algorithms converge faster and more reliably, leading to better and more stable predictions.\n",
        "\n",
        "Reduced Influence of Outliers:\n",
        "Checking for normalization can reveal skewed distributions or extreme outliers. In such cases, you might use transformations (like log or Box-Cox) to bring data closer to normality, which helps reduce the undue influence of outliers.\n",
        "\n",
        "Fair Comparison Between Features:\n",
        "When features are on different scales, some may dominate the model simply because of their magnitude. Normalization ensures that each feature contributes more equally, improving the interpretability and fairness of the model.\n",
        "\n",
        "Model Interpretability and Diagnostics:\n",
        "By examining how closely your data follows a normal distribution, you gain insights into potential data issues, allowing you to decide whether to apply normalization or other transformations before modeling.\n",
        "\n",
        "In summary, checking for normalization helps improve model performance, stability, and interpretability by ensuring that your features are balanced and meet the assumptions underlying many machine learning methods."
      ],
      "metadata": {
        "id": "O0oTvEhwQTy1"
      }
    },
    {
      "cell_type": "code",
      "source": [
        "for i in numerical_columns:\n",
        "    plt.figure(figsize=(3,3))\n",
        "    sns.kdeplot(df[i])"
      ],
      "metadata": {
        "trusted": true,
        "execution": {
          "iopub.status.busy": "2025-03-14T12:15:36.152251Z",
          "iopub.execute_input": "2025-03-14T12:15:36.15269Z",
          "iopub.status.idle": "2025-03-14T12:15:36.592377Z",
          "shell.execute_reply.started": "2025-03-14T12:15:36.152658Z",
          "shell.execute_reply": "2025-03-14T12:15:36.591314Z"
        },
        "id": "NnZLZdRlQTy2",
        "outputId": "334e05ef-9260-4829-ccb1-d01ea3ba1ee6",
        "colab": {
          "base_uri": "https://localhost:8080/",
          "height": 610
        }
      },
      "outputs": [
        {
          "output_type": "display_data",
          "data": {
            "text/plain": [
              "<Figure size 300x300 with 1 Axes>"
            ],
            "image/png": "[encoded data removed]"
          },
          "metadata": {}
        },
        {
          "output_type": "display_data",
          "data": {
            "text/plain": [
              "<Figure size 300x300 with 1 Axes>"
            ],
            "image/png": "[encoded data removed]"
          },
          "metadata": {}
        }
      ],
      "execution_count": 15
    },
    {
      "cell_type": "markdown",
      "source": [
        "## Categorising For Ordinal Encoding"
      ],
      "metadata": {
        "id": "M_PBKIGXQTy2"
      }
    },
    {
      "cell_type": "code",
      "source": [
        "categories=[['School','Graduate','Postgraduate','PhD'],['Low','Medium','High']]\n"
      ],
      "metadata": {
        "trusted": true,
        "execution": {
          "iopub.status.busy": "2025-03-14T12:15:40.464541Z",
          "iopub.execute_input": "2025-03-14T12:15:40.464884Z",
          "iopub.status.idle": "2025-03-14T12:15:40.470278Z",
          "shell.execute_reply.started": "2025-03-14T12:15:40.464859Z",
          "shell.execute_reply": "2025-03-14T12:15:40.468735Z"
        },
        "id": "G7nDXKyFQTy3"
      },
      "outputs": [],
      "execution_count": 16
    },
    {
      "cell_type": "code",
      "source": [
        "ohe=OneHotEncoder(drop='first',sparse_output=False)\n",
        "ode=OrdinalEncoder(categories=categories)\n",
        "y_original=df.iloc[:,11]\n",
        "y_original.head()"
      ],
      "metadata": {
        "trusted": true,
        "execution": {
          "iopub.status.busy": "2025-03-14T12:15:42.884114Z",
          "iopub.execute_input": "2025-03-14T12:15:42.884511Z",
          "iopub.status.idle": "2025-03-14T12:15:42.893538Z",
          "shell.execute_reply.started": "2025-03-14T12:15:42.884484Z",
          "shell.execute_reply": "2025-03-14T12:15:42.892302Z"
        },
        "id": "0n6B0_FSQTy3",
        "outputId": "19068751-d79d-4542-f2ee-8bde8f7b0d60",
        "colab": {
          "base_uri": "https://localhost:8080/",
          "height": 241
        }
      },
      "outputs": [
        {
          "output_type": "execute_result",
          "data": {
            "text/plain": [
              "0    Yes\n",
              "1     No\n",
              "2     No\n",
              "3     No\n",
              "4     No\n",
              "Name: Divorce_Status, dtype: object"
            ],
            "text/html": [
              "<div>\n",
              "<style scoped>\n",
              "    .dataframe tbody tr th:only-of-type {\n",
              "        vertical-align: middle;\n",
              "    }\n",
              "\n",
              "    .dataframe tbody tr th {\n",
              "        vertical-align: top;\n",
              "    }\n",
              "\n",
              "    .dataframe thead th {\n",
              "        text-align: right;\n",
              "    }\n",
              "</style>\n",
              "<table border=\"1\" class=\"dataframe\">\n",
              "  <thead>\n",
              "    <tr style=\"text-align: right;\">\n",
              "      <th></th>\n",
              "      <th>Divorce_Status</th>\n",
              "    </tr>\n",
              "  </thead>\n",
              "  <tbody>\n",
              "    <tr>\n",
              "      <th>0</th>\n",
              "      <td>Yes</td>\n",
              "    </tr>\n",
              "    <tr>\n",
              "      <th>1</th>\n",
              "      <td>No</td>\n",
              "    </tr>\n",
              "    <tr>\n",
              "      <th>2</th>\n",
              "      <td>No</td>\n",
              "    </tr>\n",
              "    <tr>\n",
              "      <th>3</th>\n",
              "      <td>No</td>\n",
              "    </tr>\n",
              "    <tr>\n",
              "      <th>4</th>\n",
              "      <td>No</td>\n",
              "    </tr>\n",
              "  </tbody>\n",
              "</table>\n",
              "</div><br><label><b>dtype:</b> object</label>"
            ]
          },
          "metadata": {},
          "execution_count": 17
        }
      ],
      "execution_count": 17
    },
    {
      "cell_type": "markdown",
      "source": [
        "## Transforming Columns Using Column Transformer"
      ],
      "metadata": {
        "id": "VTEae_F4QTy3"
      }
    },
    {
      "cell_type": "code",
      "source": [
        "transformer = ColumnTransformer([\n",
        "    ('ohe', ohe, columns_to_ohe),\n",
        "    ('ode', ode, columns_to_ode)\n",
        "], remainder='passthrough')"
      ],
      "metadata": {
        "trusted": true,
        "execution": {
          "iopub.status.busy": "2025-03-14T12:15:55.603333Z",
          "iopub.execute_input": "2025-03-14T12:15:55.603743Z",
          "iopub.status.idle": "2025-03-14T12:15:55.609115Z",
          "shell.execute_reply.started": "2025-03-14T12:15:55.603712Z",
          "shell.execute_reply": "2025-03-14T12:15:55.607527Z"
        },
        "id": "fLtxQpxIQTy3"
      },
      "outputs": [],
      "execution_count": 18
    },
    {
      "cell_type": "code",
      "source": [
        "X_n=transformer.fit_transform(df)\n",
        "column_names=transformer.get_feature_names_out()\n",
        "df_transformed = pd.DataFrame(X_n, columns=column_names)"
      ],
      "metadata": {
        "trusted": true,
        "execution": {
          "iopub.status.busy": "2025-03-14T12:15:58.095297Z",
          "iopub.execute_input": "2025-03-14T12:15:58.095636Z",
          "iopub.status.idle": "2025-03-14T12:15:58.176383Z",
          "shell.execute_reply.started": "2025-03-14T12:15:58.095609Z",
          "shell.execute_reply": "2025-03-14T12:15:58.175036Z"
        },
        "id": "1KuLb7SnQTy3"
      },
      "outputs": [],
      "execution_count": 19
    },
    {
      "cell_type": "code",
      "source": [
        "df_transformed.head()"
      ],
      "metadata": {
        "trusted": true,
        "execution": {
          "iopub.status.busy": "2025-03-14T12:16:00.266599Z",
          "iopub.execute_input": "2025-03-14T12:16:00.267035Z",
          "iopub.status.idle": "2025-03-14T12:16:00.300375Z",
          "shell.execute_reply.started": "2025-03-14T12:16:00.266999Z",
          "shell.execute_reply": "2025-03-14T12:16:00.299228Z"
        },
        "id": "3XxthqfgQTy4",
        "outputId": "a4944f99-b005-4c9d-c26c-006b19527f51",
        "colab": {
          "base_uri": "https://localhost:8080/",
          "height": 273
        }
      },
      "outputs": [
        {
          "output_type": "execute_result",
          "data": {
            "text/plain": [
              "  ohe__Marriage_Type_Love ohe__Gender_Male ohe__Caste_Match_Same  \\\n",
              "0                     1.0              1.0                   0.0   \n",
              "1                     1.0              0.0                   1.0   \n",
              "2                     0.0              1.0                   1.0   \n",
              "3                     0.0              0.0                   0.0   \n",
              "4                     1.0              0.0                   1.0   \n",
              "\n",
              "  ohe__Religion_Hindu ohe__Religion_Muslim ohe__Religion_Others  \\\n",
              "0                 1.0                  0.0                  0.0   \n",
              "1                 1.0                  0.0                  0.0   \n",
              "2                 0.0                  1.0                  0.0   \n",
              "3                 1.0                  0.0                  0.0   \n",
              "4                 1.0                  0.0                  0.0   \n",
              "\n",
              "  ohe__Religion_Sikh ohe__Parental_Approval_Partial  \\\n",
              "0                0.0                            0.0   \n",
              "1                0.0                            0.0   \n",
              "2                0.0                            0.0   \n",
              "3                0.0                            0.0   \n",
              "4                0.0                            1.0   \n",
              "\n",
              "  ohe__Parental_Approval_Yes ohe__Urban_Rural_Urban  ...  \\\n",
              "0                        0.0                    1.0  ...   \n",
              "1                        1.0                    0.0  ...   \n",
              "2                        1.0                    0.0  ...   \n",
              "3                        1.0                    1.0  ...   \n",
              "4                        0.0                    0.0  ...   \n",
              "\n",
              "  ohe__Spouse_Working_Yes ohe__Inter-Caste_Yes ohe__Inter-Religion_Yes  \\\n",
              "0                     0.0                  0.0                     0.0   \n",
              "1                     0.0                  0.0                     1.0   \n",
              "2                     0.0                  0.0                     0.0   \n",
              "3                     0.0                  1.0                     0.0   \n",
              "4                     0.0                  0.0                     1.0   \n",
              "\n",
              "  ode__Education_Level ode__Marital_Satisfaction remainder__ID  \\\n",
              "0                  1.0                       1.0             1   \n",
              "1                  0.0                       0.0             2   \n",
              "2                  2.0                       1.0             3   \n",
              "3                  0.0                       0.0             4   \n",
              "4                  1.0                       1.0             5   \n",
              "\n",
              "  remainder__Age_at_Marriage remainder__Divorce_Status  \\\n",
              "0                         23                       Yes   \n",
              "1                         28                        No   \n",
              "2                         39                        No   \n",
              "3                         26                        No   \n",
              "4                         32                        No   \n",
              "\n",
              "  remainder__Children_Count remainder__Years_Since_Marriage  \n",
              "0                         5                              34  \n",
              "1                         3                              42  \n",
              "2                         0                              25  \n",
              "3                         0                              12  \n",
              "4                         1                              41  \n",
              "\n",
              "[5 rows x 24 columns]"
            ],
            "text/html": [
              "\n",
              "  <div id=\"df-e1364722-3754-444c-acb1-0b4bd3c13ae0\" class=\"colab-df-container\">\n",
              "    <div>\n",
              "<style scoped>\n",
              "    .dataframe tbody tr th:only-of-type {\n",
              "        vertical-align: middle;\n",
              "    }\n",
              "\n",
              "    .dataframe tbody tr th {\n",
              "        vertical-align: top;\n",
              "    }\n",
              "\n",
              "    .dataframe thead th {\n",
              "        text-align: right;\n",
              "    }\n",
              "</style>\n",
              "<table border=\"1\" class=\"dataframe\">\n",
              "  <thead>\n",
              "    <tr style=\"text-align: right;\">\n",
              "      <th></th>\n",
              "      <th>ohe__Marriage_Type_Love</th>\n",
              "      <th>ohe__Gender_Male</th>\n",
              "      <th>ohe__Caste_Match_Same</th>\n",
              "      <th>ohe__Religion_Hindu</th>\n",
              "      <th>ohe__Religion_Muslim</th>\n",
              "      <th>ohe__Religion_Others</th>\n",
              "      <th>ohe__Religion_Sikh</th>\n",
              "      <th>ohe__Parental_Approval_Partial</th>\n",
              "      <th>ohe__Parental_Approval_Yes</th>\n",
              "      <th>ohe__Urban_Rural_Urban</th>\n",
              "      <th>...</th>\n",
              "      <th>ohe__Spouse_Working_Yes</th>\n",
              "      <th>ohe__Inter-Caste_Yes</th>\n",
              "      <th>ohe__Inter-Religion_Yes</th>\n",
              "      <th>ode__Education_Level</th>\n",
              "      <th>ode__Marital_Satisfaction</th>\n",
              "      <th>remainder__ID</th>\n",
              "      <th>remainder__Age_at_Marriage</th>\n",
              "      <th>remainder__Divorce_Status</th>\n",
              "      <th>remainder__Children_Count</th>\n",
              "      <th>remainder__Years_Since_Marriage</th>\n",
              "    </tr>\n",
              "  </thead>\n",
              "  <tbody>\n",
              "    <tr>\n",
              "      <th>0</th>\n",
              "      <td>1.0</td>\n",
              "      <td>1.0</td>\n",
              "      <td>0.0</td>\n",
              "      <td>1.0</td>\n",
              "      <td>0.0</td>\n",
              "      <td>0.0</td>\n",
              "      <td>0.0</td>\n",
              "      <td>0.0</td>\n",
              "      <td>0.0</td>\n",
              "      <td>1.0</td>\n",
              "      <td>...</td>\n",
              "      <td>0.0</td>\n",
              "      <td>0.0</td>\n",
              "      <td>0.0</td>\n",
              "      <td>1.0</td>\n",
              "      <td>1.0</td>\n",
              "      <td>1</td>\n",
              "      <td>23</td>\n",
              "      <td>Yes</td>\n",
              "      <td>5</td>\n",
              "      <td>34</td>\n",
              "    </tr>\n",
              "    <tr>\n",
              "      <th>1</th>\n",
              "      <td>1.0</td>\n",
              "      <td>0.0</td>\n",
              "      <td>1.0</td>\n",
              "      <td>1.0</td>\n",
              "      <td>0.0</td>\n",
              "      <td>0.0</td>\n",
              "      <td>0.0</td>\n",
              "      <td>0.0</td>\n",
              "      <td>1.0</td>\n",
              "      <td>0.0</td>\n",
              "      <td>...</td>\n",
              "      <td>0.0</td>\n",
              "      <td>0.0</td>\n",
              "      <td>1.0</td>\n",
              "      <td>0.0</td>\n",
              "      <td>0.0</td>\n",
              "      <td>2</td>\n",
              "      <td>28</td>\n",
              "      <td>No</td>\n",
              "      <td>3</td>\n",
              "      <td>42</td>\n",
              "    </tr>\n",
              "    <tr>\n",
              "      <th>2</th>\n",
              "      <td>0.0</td>\n",
              "      <td>1.0</td>\n",
              "      <td>1.0</td>\n",
              "      <td>0.0</td>\n",
              "      <td>1.0</td>\n",
              "      <td>0.0</td>\n",
              "      <td>0.0</td>\n",
              "      <td>0.0</td>\n",
              "      <td>1.0</td>\n",
              "      <td>0.0</td>\n",
              "      <td>...</td>\n",
              "      <td>0.0</td>\n",
              "      <td>0.0</td>\n",
              "      <td>0.0</td>\n",
              "      <td>2.0</td>\n",
              "      <td>1.0</td>\n",
              "      <td>3</td>\n",
              "      <td>39</td>\n",
              "      <td>No</td>\n",
              "      <td>0</td>\n",
              "      <td>25</td>\n",
              "    </tr>\n",
              "    <tr>\n",
              "      <th>3</th>\n",
              "      <td>0.0</td>\n",
              "      <td>0.0</td>\n",
              "      <td>0.0</td>\n",
              "      <td>1.0</td>\n",
              "      <td>0.0</td>\n",
              "      <td>0.0</td>\n",
              "      <td>0.0</td>\n",
              "      <td>0.0</td>\n",
              "      <td>1.0</td>\n",
              "      <td>1.0</td>\n",
              "      <td>...</td>\n",
              "      <td>0.0</td>\n",
              "      <td>1.0</td>\n",
              "      <td>0.0</td>\n",
              "      <td>0.0</td>\n",
              "      <td>0.0</td>\n",
              "      <td>4</td>\n",
              "      <td>26</td>\n",
              "      <td>No</td>\n",
              "      <td>0</td>\n",
              "      <td>12</td>\n",
              "    </tr>\n",
              "    <tr>\n",
              "      <th>4</th>\n",
              "      <td>1.0</td>\n",
              "      <td>0.0</td>\n",
              "      <td>1.0</td>\n",
              "      <td>1.0</td>\n",
              "      <td>0.0</td>\n",
              "      <td>0.0</td>\n",
              "      <td>0.0</td>\n",
              "      <td>1.0</td>\n",
              "      <td>0.0</td>\n",
              "      <td>0.0</td>\n",
              "      <td>...</td>\n",
              "      <td>0.0</td>\n",
              "      <td>0.0</td>\n",
              "      <td>1.0</td>\n",
              "      <td>1.0</td>\n",
              "      <td>1.0</td>\n",
              "      <td>5</td>\n",
              "      <td>32</td>\n",
              "      <td>No</td>\n",
              "      <td>1</td>\n",
              "      <td>41</td>\n",
              "    </tr>\n",
              "  </tbody>\n",
              "</table>\n",
              "<p>5 rows × 24 columns</p>\n",
              "</div>\n",
              "    <div class=\"colab-df-buttons\">\n",
              "\n",
              "  <div class=\"colab-df-container\">\n",
              "    <button class=\"colab-df-convert\" onclick=\"convertToInteractive('df-e1364722-3754-444c-acb1-0b4bd3c13ae0')\"\n",
              "            title=\"Convert this dataframe to an interactive table.\"\n",
              "            style=\"display:none;\">\n",
              "\n",
              "  <svg xmlns=\"http://www.w3.org/2000/svg\" height=\"24px\" viewBox=\"0 -960 960 960\">\n",
              "    <path d=\"M120-120v-720h720v720H120Zm60-500h600v-160H180v160Zm220 220h160v-160H400v160Zm0 220h160v-160H400v160ZM180-400h160v-160H180v160Zm440 0h160v-160H620v160ZM180-180h160v-160H180v160Zm440 0h160v-160H620v160Z\"/>\n",
              "  </svg>\n",
              "    </button>\n",
              "\n",
              "  <style>\n",
              "    .colab-df-container {\n",
              "      display:flex;\n",
              "      gap: 12px;\n",
              "    }\n",
              "\n",
              "    .colab-df-convert {\n",
              "      background-color: #E8F0FE;\n",
              "      border: none;\n",
              "      border-radius: 50%;\n",
              "      cursor: pointer;\n",
              "      display: none;\n",
              "      fill: #1967D2;\n",
              "      height: 32px;\n",
              "      padding: 0 0 0 0;\n",
              "      width: 32px;\n",
              "    }\n",
              "\n",
              "    .colab-df-convert:hover {\n",
              "      background-color: #E2EBFA;\n",
              "      box-shadow: 0px 1px 2px rgba(60, 64, 67, 0.3), 0px 1px 3px 1px rgba(60, 64, 67, 0.15);\n",
              "      fill: #174EA6;\n",
              "    }\n",
              "\n",
              "    .colab-df-buttons div {\n",
              "      margin-bottom: 4px;\n",
              "    }\n",
              "\n",
              "    [theme=dark] .colab-df-convert {\n",
              "      background-color: #3B4455;\n",
              "      fill: #D2E3FC;\n",
              "    }\n",
              "\n",
              "    [theme=dark] .colab-df-convert:hover {\n",
              "      background-color: #434B5C;\n",
              "      box-shadow: 0px 1px 3px 1px rgba(0, 0, 0, 0.15);\n",
              "      filter: drop-shadow(0px 1px 2px rgba(0, 0, 0, 0.3));\n",
              "      fill: #FFFFFF;\n",
              "    }\n",
              "  </style>\n",
              "\n",
              "    <script>\n",
              "      const buttonEl =\n",
              "        document.querySelector('#df-e1364722-3754-444c-acb1-0b4bd3c13ae0 button.colab-df-convert');\n",
              "      buttonEl.style.display =\n",
              "        google.colab.kernel.accessAllowed ? 'block' : 'none';\n",
              "\n",
              "      async function convertToInteractive(key) {\n",
              "        const element = document.querySelector('#df-e1364722-3754-444c-acb1-0b4bd3c13ae0');\n",
              "        const dataTable =\n",
              "          await google.colab.kernel.invokeFunction('convertToInteractive',\n",
              "                                                    [key], {});\n",
              "        if (!dataTable) return;\n",
              "\n",
              "        const docLinkHtml = 'Like what you see? Visit the ' +\n",
              "          '<a target=\"_blank\" href=https://colab.research.google.com/notebooks/data_table.ipynb>data table notebook</a>'\n",
              "          + ' to learn more about interactive tables.';\n",
              "        element.innerHTML = '';\n",
              "        dataTable['output_type'] = 'display_data';\n",
              "        await google.colab.output.renderOutput(dataTable, element);\n",
              "        const docLink = document.createElement('div');\n",
              "        docLink.innerHTML = docLinkHtml;\n",
              "        element.appendChild(docLink);\n",
              "      }\n",
              "    </script>\n",
              "  </div>\n",
              "\n",
              "\n",
              "<div id=\"df-b8272c03-d60d-4f7c-9a99-660a85aed499\">\n",
              "  <button class=\"colab-df-quickchart\" onclick=\"quickchart('df-b8272c03-d60d-4f7c-9a99-660a85aed499')\"\n",
              "            title=\"Suggest charts\"\n",
              "            style=\"display:none;\">\n",
              "\n",
              "<svg xmlns=\"http://www.w3.org/2000/svg\" height=\"24px\"viewBox=\"0 0 24 24\"\n",
              "     width=\"24px\">\n",
              "    <g>\n",
              "        <path d=\"M19 3H5c-1.1 0-2 .9-2 2v14c0 1.1.9 2 2 2h14c1.1 0 2-.9 2-2V5c0-1.1-.9-2-2-2zM9 17H7v-7h2v7zm4 0h-2V7h2v10zm4 0h-2v-4h2v4z\"/>\n",
              "    </g>\n",
              "</svg>\n",
              "  </button>\n",
              "\n",
              "<style>\n",
              "  .colab-df-quickchart {\n",
              "      --bg-color: #E8F0FE;\n",
              "      --fill-color: #1967D2;\n",
              "      --hover-bg-color: #E2EBFA;\n",
              "      --hover-fill-color: #174EA6;\n",
              "      --disabled-fill-color: #AAA;\n",
              "      --disabled-bg-color: #DDD;\n",
              "  }\n",
              "\n",
              "  [theme=dark] .colab-df-quickchart {\n",
              "      --bg-color: #3B4455;\n",
              "      --fill-color: #D2E3FC;\n",
              "      --hover-bg-color: #434B5C;\n",
              "      --hover-fill-color: #FFFFFF;\n",
              "      --disabled-bg-color: #3B4455;\n",
              "      --disabled-fill-color: #666;\n",
              "  }\n",
              "\n",
              "  .colab-df-quickchart {\n",
              "    background-color: var(--bg-color);\n",
              "    border: none;\n",
              "    border-radius: 50%;\n",
              "    cursor: pointer;\n",
              "    display: none;\n",
              "    fill: var(--fill-color);\n",
              "    height: 32px;\n",
              "    padding: 0;\n",
              "    width: 32px;\n",
              "  }\n",
              "\n",
              "  .colab-df-quickchart:hover {\n",
              "    background-color: var(--hover-bg-color);\n",
              "    box-shadow: 0 1px 2px rgba(60, 64, 67, 0.3), 0 1px 3px 1px rgba(60, 64, 67, 0.15);\n",
              "    fill: var(--button-hover-fill-color);\n",
              "  }\n",
              "\n",
              "  .colab-df-quickchart-complete:disabled,\n",
              "  .colab-df-quickchart-complete:disabled:hover {\n",
              "    background-color: var(--disabled-bg-color);\n",
              "    fill: var(--disabled-fill-color);\n",
              "    box-shadow: none;\n",
              "  }\n",
              "\n",
              "  .colab-df-spinner {\n",
              "    border: 2px solid var(--fill-color);\n",
              "    border-color: transparent;\n",
              "    border-bottom-color: var(--fill-color);\n",
              "    animation:\n",
              "      spin 1s steps(1) infinite;\n",
              "  }\n",
              "\n",
              "  @keyframes spin {\n",
              "    0% {\n",
              "      border-color: transparent;\n",
              "      border-bottom-color: var(--fill-color);\n",
              "      border-left-color: var(--fill-color);\n",
              "    }\n",
              "    20% {\n",
              "      border-color: transparent;\n",
              "      border-left-color: var(--fill-color);\n",
              "      border-top-color: var(--fill-color);\n",
              "    }\n",
              "    30% {\n",
              "      border-color: transparent;\n",
              "      border-left-color: var(--fill-color);\n",
              "      border-top-color: var(--fill-color);\n",
              "      border-right-color: var(--fill-color);\n",
              "    }\n",
              "    40% {\n",
              "      border-color: transparent;\n",
              "      border-right-color: var(--fill-color);\n",
              "      border-top-color: var(--fill-color);\n",
              "    }\n",
              "    60% {\n",
              "      border-color: transparent;\n",
              "      border-right-color: var(--fill-color);\n",
              "    }\n",
              "    80% {\n",
              "      border-color: transparent;\n",
              "      border-right-color: var(--fill-color);\n",
              "      border-bottom-color: var(--fill-color);\n",
              "    }\n",
              "    90% {\n",
              "      border-color: transparent;\n",
              "      border-bottom-color: var(--fill-color);\n",
              "    }\n",
              "  }\n",
              "</style>\n",
              "\n",
              "  <script>\n",
              "    async function quickchart(key) {\n",
              "      const quickchartButtonEl =\n",
              "        document.querySelector('#' + key + ' button');\n",
              "      quickchartButtonEl.disabled = true;  // To prevent multiple clicks.\n",
              "      quickchartButtonEl.classList.add('colab-df-spinner');\n",
              "      try {\n",
              "        const charts = await google.colab.kernel.invokeFunction(\n",
              "            'suggestCharts', [key], {});\n",
              "      } catch (error) {\n",
              "        console.error('Error during call to suggestCharts:', error);\n",
              "      }\n",
              "      quickchartButtonEl.classList.remove('colab-df-spinner');\n",
              "      quickchartButtonEl.classList.add('colab-df-quickchart-complete');\n",
              "    }\n",
              "    (() => {\n",
              "      let quickchartButtonEl =\n",
              "        document.querySelector('#df-b8272c03-d60d-4f7c-9a99-660a85aed499 button');\n",
              "      quickchartButtonEl.style.display =\n",
              "        google.colab.kernel.accessAllowed ? 'block' : 'none';\n",
              "    })();\n",
              "  </script>\n",
              "</div>\n",
              "\n",
              "    </div>\n",
              "  </div>\n"
            ],
            "application/vnd.google.colaboratory.intrinsic+json": {
              "type": "dataframe",
              "variable_name": "df_transformed"
            }
          },
          "metadata": {},
          "execution_count": 20
        }
      ],
      "execution_count": 20
    },
    {
      "cell_type": "code",
      "source": [
        "df_transformed.drop(columns=['remainder__Divorce_Status','remainder__ID'],inplace=True)"
      ],
      "metadata": {
        "trusted": true,
        "execution": {
          "iopub.status.busy": "2025-03-14T12:16:03.140925Z",
          "iopub.execute_input": "2025-03-14T12:16:03.141372Z",
          "iopub.status.idle": "2025-03-14T12:16:03.151964Z",
          "shell.execute_reply.started": "2025-03-14T12:16:03.141338Z",
          "shell.execute_reply": "2025-03-14T12:16:03.150611Z"
        },
        "id": "PVppPfCOQTy4"
      },
      "outputs": [],
      "execution_count": 21
    },
    {
      "cell_type": "markdown",
      "source": [
        "## Encoding the Output"
      ],
      "metadata": {
        "id": "MbSTfpXaQTy4"
      }
    },
    {
      "cell_type": "code",
      "source": [
        "le=LabelEncoder()\n",
        "y=le.fit_transform(y_original)\n",
        "X=df_transformed"
      ],
      "metadata": {
        "trusted": true,
        "execution": {
          "iopub.status.busy": "2025-03-14T12:16:13.146702Z",
          "iopub.execute_input": "2025-03-14T12:16:13.147116Z",
          "iopub.status.idle": "2025-03-14T12:16:13.155449Z",
          "shell.execute_reply.started": "2025-03-14T12:16:13.147086Z",
          "shell.execute_reply": "2025-03-14T12:16:13.154007Z"
        },
        "id": "qUq-q8WbQTy4"
      },
      "outputs": [],
      "execution_count": 22
    },
    {
      "cell_type": "code",
      "source": [
        "from sklearn.model_selection import train_test_split\n",
        "X_train, X_test, y_train, y_test = train_test_split(X,y,test_size=0.3,random_state=43)"
      ],
      "metadata": {
        "trusted": true,
        "execution": {
          "iopub.status.busy": "2025-03-14T12:16:17.035534Z",
          "iopub.execute_input": "2025-03-14T12:16:17.035911Z",
          "iopub.status.idle": "2025-03-14T12:16:17.050312Z",
          "shell.execute_reply.started": "2025-03-14T12:16:17.035882Z",
          "shell.execute_reply": "2025-03-14T12:16:17.048516Z"
        },
        "id": "1236tHHHQTy5"
      },
      "outputs": [],
      "execution_count": 23
    },
    {
      "cell_type": "code",
      "source": [
        "X_train.columns"
      ],
      "metadata": {
        "trusted": true,
        "execution": {
          "iopub.status.busy": "2025-03-14T12:16:20.15993Z",
          "iopub.execute_input": "2025-03-14T12:16:20.160327Z",
          "iopub.status.idle": "2025-03-14T12:16:20.167612Z",
          "shell.execute_reply.started": "2025-03-14T12:16:20.160301Z",
          "shell.execute_reply": "2025-03-14T12:16:20.166277Z"
        },
        "id": "C1qWkhi7QTy5",
        "outputId": "eafe2bc1-13aa-494d-85c4-e9f83b4574fc",
        "colab": {
          "base_uri": "https://localhost:8080/"
        }
      },
      "outputs": [
        {
          "output_type": "execute_result",
          "data": {
            "text/plain": [
              "Index(['ohe__Marriage_Type_Love', 'ohe__Gender_Male', 'ohe__Caste_Match_Same',\n",
              "       'ohe__Religion_Hindu', 'ohe__Religion_Muslim', 'ohe__Religion_Others',\n",
              "       'ohe__Religion_Sikh', 'ohe__Parental_Approval_Partial',\n",
              "       'ohe__Parental_Approval_Yes', 'ohe__Urban_Rural_Urban',\n",
              "       'ohe__Dowry_Exchanged_Not Disclosed', 'ohe__Dowry_Exchanged_Yes',\n",
              "       'ohe__Income_Level_Low', 'ohe__Income_Level_Middle',\n",
              "       'ohe__Spouse_Working_Yes', 'ohe__Inter-Caste_Yes',\n",
              "       'ohe__Inter-Religion_Yes', 'ode__Education_Level',\n",
              "       'ode__Marital_Satisfaction', 'remainder__Age_at_Marriage',\n",
              "       'remainder__Children_Count', 'remainder__Years_Since_Marriage'],\n",
              "      dtype='object')"
            ]
          },
          "metadata": {},
          "execution_count": 24
        }
      ],
      "execution_count": 24
    },
    {
      "cell_type": "markdown",
      "source": [
        "## Lets check whether Random classifier fits our Data"
      ],
      "metadata": {
        "id": "bxW9mQ1JQTy5"
      }
    },
    {
      "cell_type": "markdown",
      "source": [
        "I chose a Random Forest classifier for the marriage dataset for several reasons:\n",
        "\n",
        "Robustness to Mixed Data:\n",
        "Random Forests can easily handle both categorical (after encoding) and numerical features without needing heavy preprocessing like scaling.\n",
        "\n",
        "Handling Non-Linear Relationships:\n",
        "Marriage-related data may include complex, non-linear interactions between factors (like education, parental approval, and income), which Random Forests can capture effectively.\n",
        "\n",
        "Built-In Feature Importance:\n",
        "They offer insights into which factors contribute most to predicting the outcome, helping us understand the key drivers in marriage decisions.\n",
        "\n",
        "Resilience to Overfitting:\n",
        "Although overfitting can occur, the ensemble approach (using multiple trees) tends to reduce this risk compared to a single decision tree, and we can further tune hyperparameters if needed.\n",
        "\n",
        "Ease of Use:\n",
        "Random Forests require minimal parameter tuning out-of-the-box, making them a good starting point for exploratory predictive modeling."
      ],
      "metadata": {
        "id": "h6nYA8DbQTy5"
      }
    },
    {
      "cell_type": "code",
      "source": [
        "model=RandomForestClassifier(n_estimators=100,random_state=40)\n",
        "model.fit(X_train,y_train)"
      ],
      "metadata": {
        "trusted": true,
        "execution": {
          "iopub.status.busy": "2025-03-14T12:16:22.888984Z",
          "iopub.execute_input": "2025-03-14T12:16:22.889401Z",
          "iopub.status.idle": "2025-03-14T12:16:23.672541Z",
          "shell.execute_reply.started": "2025-03-14T12:16:22.889372Z",
          "shell.execute_reply": "2025-03-14T12:16:23.671437Z"
        },
        "id": "93AJE0ffQTy6",
        "outputId": "193f6e0b-291b-4d89-c251-9364e65eeb64",
        "colab": {
          "base_uri": "https://localhost:8080/",
          "height": 80
        }
      },
      "outputs": [
        {
          "output_type": "execute_result",
          "data": {
            "text/plain": [
              "RandomForestClassifier(random_state=40)"
            ],
            "text/html": [
              "<style>#sk-container-id-1 {\n",
              "  /* Definition of color scheme common for light and dark mode */\n",
              "  --sklearn-color-text: #000;\n",
              "  --sklearn-color-text-muted: #666;\n",
              "  --sklearn-color-line: gray;\n",
              "  /* Definition of color scheme for unfitted estimators */\n",
              "  --sklearn-color-unfitted-level-0: #fff5e6;\n",
              "  --sklearn-color-unfitted-level-1: #f6e4d2;\n",
              "  --sklearn-color-unfitted-level-2: #ffe0b3;\n",
              "  --sklearn-color-unfitted-level-3: chocolate;\n",
              "  /* Definition of color scheme for fitted estimators */\n",
              "  --sklearn-color-fitted-level-0: #f0f8ff;\n",
              "  --sklearn-color-fitted-level-1: #d4ebff;\n",
              "  --sklearn-color-fitted-level-2: #b3dbfd;\n",
              "  --sklearn-color-fitted-level-3: cornflowerblue;\n",
              "\n",
              "  /* Specific color for light theme */\n",
              "  --sklearn-color-text-on-default-background: var(--sg-text-color, var(--theme-code-foreground, var(--jp-content-font-color1, black)));\n",
              "  --sklearn-color-background: var(--sg-background-color, var(--theme-background, var(--jp-layout-color0, white)));\n",
              "  --sklearn-color-border-box: var(--sg-text-color, var(--theme-code-foreground, var(--jp-content-font-color1, black)));\n",
              "  --sklearn-color-icon: #696969;\n",
              "\n",
              "  @media (prefers-color-scheme: dark) {\n",
              "    /* Redefinition of color scheme for dark theme */\n",
              "    --sklearn-color-text-on-default-background: var(--sg-text-color, var(--theme-code-foreground, var(--jp-content-font-color1, white)));\n",
              "    --sklearn-color-background: var(--sg-background-color, var(--theme-background, var(--jp-layout-color0, #111)));\n",
              "    --sklearn-color-border-box: var(--sg-text-color, var(--theme-code-foreground, var(--jp-content-font-color1, white)));\n",
              "    --sklearn-color-icon: #878787;\n",
              "  }\n",
              "}\n",
              "\n",
              "#sk-container-id-1 {\n",
              "  color: var(--sklearn-color-text);\n",
              "}\n",
              "\n",
              "#sk-container-id-1 pre {\n",
              "  padding: 0;\n",
              "}\n",
              "\n",
              "#sk-container-id-1 input.sk-hidden--visually {\n",
              "  border: 0;\n",
              "  clip: rect(1px 1px 1px 1px);\n",
              "  clip: rect(1px, 1px, 1px, 1px);\n",
              "  height: 1px;\n",
              "  margin: -1px;\n",
              "  overflow: hidden;\n",
              "  padding: 0;\n",
              "  position: absolute;\n",
              "  width: 1px;\n",
              "}\n",
              "\n",
              "#sk-container-id-1 div.sk-dashed-wrapped {\n",
              "  border: 1px dashed var(--sklearn-color-line);\n",
              "  margin: 0 0.4em 0.5em 0.4em;\n",
              "  box-sizing: border-box;\n",
              "  padding-bottom: 0.4em;\n",
              "  background-color: var(--sklearn-color-background);\n",
              "}\n",
              "\n",
              "#sk-container-id-1 div.sk-container {\n",
              "  /* jupyter's `normalize.less` sets `[hidden] { display: none; }`\n",
              "     but bootstrap.min.css set `[hidden] { display: none !important; }`\n",
              "     so we also need the `!important` here to be able to override the\n",
              "     default hidden behavior on the sphinx rendered scikit-learn.org.\n",
              "     See: https://github.com/scikit-learn/scikit-learn/issues/21755 */\n",
              "  display: inline-block !important;\n",
              "  position: relative;\n",
              "}\n",
              "\n",
              "#sk-container-id-1 div.sk-text-repr-fallback {\n",
              "  display: none;\n",
              "}\n",
              "\n",
              "div.sk-parallel-item,\n",
              "div.sk-serial,\n",
              "div.sk-item {\n",
              "  /* draw centered vertical line to link estimators */\n",
              "  background-image: linear-gradient(var(--sklearn-color-text-on-default-background), var(--sklearn-color-text-on-default-background));\n",
              "  background-size: 2px 100%;\n",
              "  background-repeat: no-repeat;\n",
              "  background-position: center center;\n",
              "}\n",
              "\n",
              "/* Parallel-specific style estimator block */\n",
              "\n",
              "#sk-container-id-1 div.sk-parallel-item::after {\n",
              "  content: \"\";\n",
              "  width: 100%;\n",
              "  border-bottom: 2px solid var(--sklearn-color-text-on-default-background);\n",
              "  flex-grow: 1;\n",
              "}\n",
              "\n",
              "#sk-container-id-1 div.sk-parallel {\n",
              "  display: flex;\n",
              "  align-items: stretch;\n",
              "  justify-content: center;\n",
              "  background-color: var(--sklearn-color-background);\n",
              "  position: relative;\n",
              "}\n",
              "\n",
              "#sk-container-id-1 div.sk-parallel-item {\n",
              "  display: flex;\n",
              "  flex-direction: column;\n",
              "}\n",
              "\n",
              "#sk-container-id-1 div.sk-parallel-item:first-child::after {\n",
              "  align-self: flex-end;\n",
              "  width: 50%;\n",
              "}\n",
              "\n",
              "#sk-container-id-1 div.sk-parallel-item:last-child::after {\n",
              "  align-self: flex-start;\n",
              "  width: 50%;\n",
              "}\n",
              "\n",
              "#sk-container-id-1 div.sk-parallel-item:only-child::after {\n",
              "  width: 0;\n",
              "}\n",
              "\n",
              "/* Serial-specific style estimator block */\n",
              "\n",
              "#sk-container-id-1 div.sk-serial {\n",
              "  display: flex;\n",
              "  flex-direction: column;\n",
              "  align-items: center;\n",
              "  background-color: var(--sklearn-color-background);\n",
              "  padding-right: 1em;\n",
              "  padding-left: 1em;\n",
              "}\n",
              "\n",
              "\n",
              "/* Toggleable style: style used for estimator/Pipeline/ColumnTransformer box that is\n",
              "clickable and can be expanded/collapsed.\n",
              "- Pipeline and ColumnTransformer use this feature and define the default style\n",
              "- Estimators will overwrite some part of the style using the `sk-estimator` class\n",
              "*/\n",
              "\n",
              "/* Pipeline and ColumnTransformer style (default) */\n",
              "\n",
              "#sk-container-id-1 div.sk-toggleable {\n",
              "  /* Default theme specific background. It is overwritten whether we have a\n",
              "  specific estimator or a Pipeline/ColumnTransformer */\n",
              "  background-color: var(--sklearn-color-background);\n",
              "}\n",
              "\n",
              "/* Toggleable label */\n",
              "#sk-container-id-1 label.sk-toggleable__label {\n",
              "  cursor: pointer;\n",
              "  display: flex;\n",
              "  width: 100%;\n",
              "  margin-bottom: 0;\n",
              "  padding: 0.5em;\n",
              "  box-sizing: border-box;\n",
              "  text-align: center;\n",
              "  align-items: start;\n",
              "  justify-content: space-between;\n",
              "  gap: 0.5em;\n",
              "}\n",
              "\n",
              "#sk-container-id-1 label.sk-toggleable__label .caption {\n",
              "  font-size: 0.6rem;\n",
              "  font-weight: lighter;\n",
              "  color: var(--sklearn-color-text-muted);\n",
              "}\n",
              "\n",
              "#sk-container-id-1 label.sk-toggleable__label-arrow:before {\n",
              "  /* Arrow on the left of the label */\n",
              "  content: \"▸\";\n",
              "  float: left;\n",
              "  margin-right: 0.25em;\n",
              "  color: var(--sklearn-color-icon);\n",
              "}\n",
              "\n",
              "#sk-container-id-1 label.sk-toggleable__label-arrow:hover:before {\n",
              "  color: var(--sklearn-color-text);\n",
              "}\n",
              "\n",
              "/* Toggleable content - dropdown */\n",
              "\n",
              "#sk-container-id-1 div.sk-toggleable__content {\n",
              "  max-height: 0;\n",
              "  max-width: 0;\n",
              "  overflow: hidden;\n",
              "  text-align: left;\n",
              "  /* unfitted */\n",
              "  background-color: var(--sklearn-color-unfitted-level-0);\n",
              "}\n",
              "\n",
              "#sk-container-id-1 div.sk-toggleable__content.fitted {\n",
              "  /* fitted */\n",
              "  background-color: var(--sklearn-color-fitted-level-0);\n",
              "}\n",
              "\n",
              "#sk-container-id-1 div.sk-toggleable__content pre {\n",
              "  margin: 0.2em;\n",
              "  border-radius: 0.25em;\n",
              "  color: var(--sklearn-color-text);\n",
              "  /* unfitted */\n",
              "  background-color: var(--sklearn-color-unfitted-level-0);\n",
              "}\n",
              "\n",
              "#sk-container-id-1 div.sk-toggleable__content.fitted pre {\n",
              "  /* unfitted */\n",
              "  background-color: var(--sklearn-color-fitted-level-0);\n",
              "}\n",
              "\n",
              "#sk-container-id-1 input.sk-toggleable__control:checked~div.sk-toggleable__content {\n",
              "  /* Expand drop-down */\n",
              "  max-height: 200px;\n",
              "  max-width: 100%;\n",
              "  overflow: auto;\n",
              "}\n",
              "\n",
              "#sk-container-id-1 input.sk-toggleable__control:checked~label.sk-toggleable__label-arrow:before {\n",
              "  content: \"▾\";\n",
              "}\n",
              "\n",
              "/* Pipeline/ColumnTransformer-specific style */\n",
              "\n",
              "#sk-container-id-1 div.sk-label input.sk-toggleable__control:checked~label.sk-toggleable__label {\n",
              "  color: var(--sklearn-color-text);\n",
              "  background-color: var(--sklearn-color-unfitted-level-2);\n",
              "}\n",
              "\n",
              "#sk-container-id-1 div.sk-label.fitted input.sk-toggleable__control:checked~label.sk-toggleable__label {\n",
              "  background-color: var(--sklearn-color-fitted-level-2);\n",
              "}\n",
              "\n",
              "/* Estimator-specific style */\n",
              "\n",
              "/* Colorize estimator box */\n",
              "#sk-container-id-1 div.sk-estimator input.sk-toggleable__control:checked~label.sk-toggleable__label {\n",
              "  /* unfitted */\n",
              "  background-color: var(--sklearn-color-unfitted-level-2);\n",
              "}\n",
              "\n",
              "#sk-container-id-1 div.sk-estimator.fitted input.sk-toggleable__control:checked~label.sk-toggleable__label {\n",
              "  /* fitted */\n",
              "  background-color: var(--sklearn-color-fitted-level-2);\n",
              "}\n",
              "\n",
              "#sk-container-id-1 div.sk-label label.sk-toggleable__label,\n",
              "#sk-container-id-1 div.sk-label label {\n",
              "  /* The background is the default theme color */\n",
              "  color: var(--sklearn-color-text-on-default-background);\n",
              "}\n",
              "\n",
              "/* On hover, darken the color of the background */\n",
              "#sk-container-id-1 div.sk-label:hover label.sk-toggleable__label {\n",
              "  color: var(--sklearn-color-text);\n",
              "  background-color: var(--sklearn-color-unfitted-level-2);\n",
              "}\n",
              "\n",
              "/* Label box, darken color on hover, fitted */\n",
              "#sk-container-id-1 div.sk-label.fitted:hover label.sk-toggleable__label.fitted {\n",
              "  color: var(--sklearn-color-text);\n",
              "  background-color: var(--sklearn-color-fitted-level-2);\n",
              "}\n",
              "\n",
              "/* Estimator label */\n",
              "\n",
              "#sk-container-id-1 div.sk-label label {\n",
              "  font-family: monospace;\n",
              "  font-weight: bold;\n",
              "  display: inline-block;\n",
              "  line-height: 1.2em;\n",
              "}\n",
              "\n",
              "#sk-container-id-1 div.sk-label-container {\n",
              "  text-align: center;\n",
              "}\n",
              "\n",
              "/* Estimator-specific */\n",
              "#sk-container-id-1 div.sk-estimator {\n",
              "  font-family: monospace;\n",
              "  border: 1px dotted var(--sklearn-color-border-box);\n",
              "  border-radius: 0.25em;\n",
              "  box-sizing: border-box;\n",
              "  margin-bottom: 0.5em;\n",
              "  /* unfitted */\n",
              "  background-color: var(--sklearn-color-unfitted-level-0);\n",
              "}\n",
              "\n",
              "#sk-container-id-1 div.sk-estimator.fitted {\n",
              "  /* fitted */\n",
              "  background-color: var(--sklearn-color-fitted-level-0);\n",
              "}\n",
              "\n",
              "/* on hover */\n",
              "#sk-container-id-1 div.sk-estimator:hover {\n",
              "  /* unfitted */\n",
              "  background-color: var(--sklearn-color-unfitted-level-2);\n",
              "}\n",
              "\n",
              "#sk-container-id-1 div.sk-estimator.fitted:hover {\n",
              "  /* fitted */\n",
              "  background-color: var(--sklearn-color-fitted-level-2);\n",
              "}\n",
              "\n",
              "/* Specification for estimator info (e.g. \"i\" and \"?\") */\n",
              "\n",
              "/* Common style for \"i\" and \"?\" */\n",
              "\n",
              ".sk-estimator-doc-link,\n",
              "a:link.sk-estimator-doc-link,\n",
              "a:visited.sk-estimator-doc-link {\n",
              "  float: right;\n",
              "  font-size: smaller;\n",
              "  line-height: 1em;\n",
              "  font-family: monospace;\n",
              "  background-color: var(--sklearn-color-background);\n",
              "  border-radius: 1em;\n",
              "  height: 1em;\n",
              "  width: 1em;\n",
              "  text-decoration: none !important;\n",
              "  margin-left: 0.5em;\n",
              "  text-align: center;\n",
              "  /* unfitted */\n",
              "  border: var(--sklearn-color-unfitted-level-1) 1pt solid;\n",
              "  color: var(--sklearn-color-unfitted-level-1);\n",
              "}\n",
              "\n",
              ".sk-estimator-doc-link.fitted,\n",
              "a:link.sk-estimator-doc-link.fitted,\n",
              "a:visited.sk-estimator-doc-link.fitted {\n",
              "  /* fitted */\n",
              "  border: var(--sklearn-color-fitted-level-1) 1pt solid;\n",
              "  color: var(--sklearn-color-fitted-level-1);\n",
              "}\n",
              "\n",
              "/* On hover */\n",
              "div.sk-estimator:hover .sk-estimator-doc-link:hover,\n",
              ".sk-estimator-doc-link:hover,\n",
              "div.sk-label-container:hover .sk-estimator-doc-link:hover,\n",
              ".sk-estimator-doc-link:hover {\n",
              "  /* unfitted */\n",
              "  background-color: var(--sklearn-color-unfitted-level-3);\n",
              "  color: var(--sklearn-color-background);\n",
              "  text-decoration: none;\n",
              "}\n",
              "\n",
              "div.sk-estimator.fitted:hover .sk-estimator-doc-link.fitted:hover,\n",
              ".sk-estimator-doc-link.fitted:hover,\n",
              "div.sk-label-container:hover .sk-estimator-doc-link.fitted:hover,\n",
              ".sk-estimator-doc-link.fitted:hover {\n",
              "  /* fitted */\n",
              "  background-color: var(--sklearn-color-fitted-level-3);\n",
              "  color: var(--sklearn-color-background);\n",
              "  text-decoration: none;\n",
              "}\n",
              "\n",
              "/* Span, style for the box shown on hovering the info icon */\n",
              ".sk-estimator-doc-link span {\n",
              "  display: none;\n",
              "  z-index: 9999;\n",
              "  position: relative;\n",
              "  font-weight: normal;\n",
              "  right: .2ex;\n",
              "  padding: .5ex;\n",
              "  margin: .5ex;\n",
              "  width: min-content;\n",
              "  min-width: 20ex;\n",
              "  max-width: 50ex;\n",
              "  color: var(--sklearn-color-text);\n",
              "  box-shadow: 2pt 2pt 4pt #999;\n",
              "  /* unfitted */\n",
              "  background: var(--sklearn-color-unfitted-level-0);\n",
              "  border: .5pt solid var(--sklearn-color-unfitted-level-3);\n",
              "}\n",
              "\n",
              ".sk-estimator-doc-link.fitted span {\n",
              "  /* fitted */\n",
              "  background: var(--sklearn-color-fitted-level-0);\n",
              "  border: var(--sklearn-color-fitted-level-3);\n",
              "}\n",
              "\n",
              ".sk-estimator-doc-link:hover span {\n",
              "  display: block;\n",
              "}\n",
              "\n",
              "/* \"?\"-specific style due to the `<a>` HTML tag */\n",
              "\n",
              "#sk-container-id-1 a.estimator_doc_link {\n",
              "  float: right;\n",
              "  font-size: 1rem;\n",
              "  line-height: 1em;\n",
              "  font-family: monospace;\n",
              "  background-color: var(--sklearn-color-background);\n",
              "  border-radius: 1rem;\n",
              "  height: 1rem;\n",
              "  width: 1rem;\n",
              "  text-decoration: none;\n",
              "  /* unfitted */\n",
              "  color: var(--sklearn-color-unfitted-level-1);\n",
              "  border: var(--sklearn-color-unfitted-level-1) 1pt solid;\n",
              "}\n",
              "\n",
              "#sk-container-id-1 a.estimator_doc_link.fitted {\n",
              "  /* fitted */\n",
              "  border: var(--sklearn-color-fitted-level-1) 1pt solid;\n",
              "  color: var(--sklearn-color-fitted-level-1);\n",
              "}\n",
              "\n",
              "/* On hover */\n",
              "#sk-container-id-1 a.estimator_doc_link:hover {\n",
              "  /* unfitted */\n",
              "  background-color: var(--sklearn-color-unfitted-level-3);\n",
              "  color: var(--sklearn-color-background);\n",
              "  text-decoration: none;\n",
              "}\n",
              "\n",
              "#sk-container-id-1 a.estimator_doc_link.fitted:hover {\n",
              "  /* fitted */\n",
              "  background-color: var(--sklearn-color-fitted-level-3);\n",
              "}\n",
              "</style><div id=\"sk-container-id-1\" class=\"sk-top-container\"><div class=\"sk-text-repr-fallback\"><pre>RandomForestClassifier(random_state=40)</pre><b>In a Jupyter environment, please rerun this cell to show the HTML representation or trust the notebook. <br />On GitHub, the HTML representation is unable to render, please try loading this page with nbviewer.org.</b></div><div class=\"sk-container\" hidden><div class=\"sk-item\"><div class=\"sk-estimator fitted sk-toggleable\"><input class=\"sk-toggleable__control sk-hidden--visually\" id=\"sk-estimator-id-1\" type=\"checkbox\" checked><label for=\"sk-estimator-id-1\" class=\"sk-toggleable__label fitted sk-toggleable__label-arrow\"><div><div>RandomForestClassifier</div></div><div><a class=\"sk-estimator-doc-link fitted\" rel=\"noreferrer\" target=\"_blank\" href=\"https://scikit-learn.org/1.6/modules/generated/sklearn.ensemble.RandomForestClassifier.html\">?<span>Documentation for RandomForestClassifier</span></a><span class=\"sk-estimator-doc-link fitted\">i<span>Fitted</span></span></div></label><div class=\"sk-toggleable__content fitted\"><pre>RandomForestClassifier(random_state=40)</pre></div> </div></div></div></div>"
            ]
          },
          "metadata": {},
          "execution_count": 25
        }
      ],
      "execution_count": 25
    },
    {
      "cell_type": "code",
      "source": [
        "y_truth=model.predict(X_test)"
      ],
      "metadata": {
        "trusted": true,
        "execution": {
          "iopub.status.busy": "2025-03-14T12:16:26.744804Z",
          "iopub.execute_input": "2025-03-14T12:16:26.745232Z",
          "iopub.status.idle": "2025-03-14T12:16:26.818645Z",
          "shell.execute_reply.started": "2025-03-14T12:16:26.745174Z",
          "shell.execute_reply": "2025-03-14T12:16:26.81758Z"
        },
        "id": "XkkH_FWRQTy6"
      },
      "outputs": [],
      "execution_count": 26
    },
    {
      "cell_type": "code",
      "source": [
        "test_accuracy=model.score(X_test,y_test)"
      ],
      "metadata": {
        "trusted": true,
        "execution": {
          "iopub.status.busy": "2025-03-14T12:16:28.743322Z",
          "iopub.execute_input": "2025-03-14T12:16:28.743699Z",
          "iopub.status.idle": "2025-03-14T12:16:28.815434Z",
          "shell.execute_reply.started": "2025-03-14T12:16:28.743671Z",
          "shell.execute_reply": "2025-03-14T12:16:28.814239Z"
        },
        "id": "PV71CIeJQTy6"
      },
      "outputs": [],
      "execution_count": 27
    },
    {
      "cell_type": "markdown",
      "source": [
        "## Since Test accuracy is 0.89 so model does a Good Job!!"
      ],
      "metadata": {
        "id": "M33p0blEQTzG"
      }
    },
    {
      "cell_type": "code",
      "source": [
        "test_accuracy"
      ],
      "metadata": {
        "trusted": true,
        "execution": {
          "iopub.status.busy": "2025-03-14T12:16:32.729545Z",
          "iopub.execute_input": "2025-03-14T12:16:32.729913Z",
          "iopub.status.idle": "2025-03-14T12:16:32.737157Z",
          "shell.execute_reply.started": "2025-03-14T12:16:32.729885Z",
          "shell.execute_reply": "2025-03-14T12:16:32.73582Z"
        },
        "id": "7C1EyipgQTzG",
        "outputId": "3130562d-496e-4739-f2bb-5add9737f62d",
        "colab": {
          "base_uri": "https://localhost:8080/"
        }
      },
      "outputs": [
        {
          "output_type": "execute_result",
          "data": {
            "text/plain": [
              "0.897"
            ]
          },
          "metadata": {},
          "execution_count": 28
        }
      ],
      "execution_count": 28
    },
    {
      "cell_type": "code",
      "source": [
        "feature_importances = model.feature_importances_"
      ],
      "metadata": {
        "trusted": true,
        "execution": {
          "iopub.status.busy": "2025-03-14T12:16:35.08859Z",
          "iopub.execute_input": "2025-03-14T12:16:35.089061Z",
          "iopub.status.idle": "2025-03-14T12:16:35.105461Z",
          "shell.execute_reply.started": "2025-03-14T12:16:35.089022Z",
          "shell.execute_reply": "2025-03-14T12:16:35.103804Z"
        },
        "id": "6uQ2Wom7QTzG"
      },
      "outputs": [],
      "execution_count": 29
    },
    {
      "cell_type": "code",
      "source": [
        "feature_names = X_train.columns"
      ],
      "metadata": {
        "trusted": true,
        "execution": {
          "iopub.status.busy": "2025-03-14T12:16:39.617241Z",
          "iopub.execute_input": "2025-03-14T12:16:39.617695Z",
          "iopub.status.idle": "2025-03-14T12:16:39.622806Z",
          "shell.execute_reply.started": "2025-03-14T12:16:39.61766Z",
          "shell.execute_reply": "2025-03-14T12:16:39.621496Z"
        },
        "id": "lI7sjV8YQTzG"
      },
      "outputs": [],
      "execution_count": 30
    },
    {
      "cell_type": "code",
      "source": [
        "importance_df = pd.DataFrame({'Feature': feature_names, 'Importance': feature_importances})"
      ],
      "metadata": {
        "trusted": true,
        "execution": {
          "iopub.status.busy": "2025-03-14T12:16:43.901726Z",
          "iopub.execute_input": "2025-03-14T12:16:43.902126Z",
          "iopub.status.idle": "2025-03-14T12:16:43.907541Z",
          "shell.execute_reply.started": "2025-03-14T12:16:43.902094Z",
          "shell.execute_reply": "2025-03-14T12:16:43.906361Z"
        },
        "id": "R2ie1ekCQTzH"
      },
      "outputs": [],
      "execution_count": 31
    },
    {
      "cell_type": "code",
      "source": [
        "importance_df = importance_df.sort_values(by='Importance', ascending=False)\n"
      ],
      "metadata": {
        "trusted": true,
        "execution": {
          "iopub.status.busy": "2025-03-14T12:16:47.587004Z",
          "iopub.execute_input": "2025-03-14T12:16:47.587473Z",
          "iopub.status.idle": "2025-03-14T12:16:47.594801Z",
          "shell.execute_reply.started": "2025-03-14T12:16:47.587441Z",
          "shell.execute_reply": "2025-03-14T12:16:47.593407Z"
        },
        "id": "SlEiQWiIQTzH"
      },
      "outputs": [],
      "execution_count": 32
    },
    {
      "cell_type": "markdown",
      "source": [
        "## Checking Best features"
      ],
      "metadata": {
        "id": "MbjKpsxHQTzH"
      }
    },
    {
      "cell_type": "code",
      "source": [
        "plt.figure(figsize=(8, 6))\n",
        "plt.barh(importance_df['Feature'], importance_df['Importance'])\n",
        "plt.xlabel('Importance')\n",
        "plt.title('Feature Importance')\n",
        "plt.gca().invert_yaxis()\n",
        "plt.show()"
      ],
      "metadata": {
        "trusted": true,
        "execution": {
          "iopub.status.busy": "2025-03-14T12:16:56.084456Z",
          "iopub.execute_input": "2025-03-14T12:16:56.084808Z",
          "iopub.status.idle": "2025-03-14T12:16:56.465601Z",
          "shell.execute_reply.started": "2025-03-14T12:16:56.084781Z",
          "shell.execute_reply": "2025-03-14T12:16:56.464475Z"
        },
        "id": "Wj0J6lCnQTzH",
        "outputId": "d612c10c-c45b-475d-b0f6-6544ab910e57",
        "colab": {
          "base_uri": "https://localhost:8080/",
          "height": 518
        }
      },
      "outputs": [
        {
          "output_type": "display_data",
          "data": {
            "text/plain": [
              "<Figure size 800x600 with 1 Axes>"
            ],
            "image/png": "[encoded data removed]"
          },
          "metadata": {}
        }
      ],
      "execution_count": 33
    },
    {
      "cell_type": "code",
      "source": [
        "from sklearn.metrics import confusion_matrix, ConfusionMatrixDisplay\n",
        "import seaborn as sns\n",
        "import matplotlib.pyplot as plt\n",
        "\n",
        "# Confusion matrix\n",
        "conf_matrix = confusion_matrix(y_test, y_truth)\n",
        "\n",
        "# Visualize as heatmap\n",
        "plt.figure(figsize=(5, 5))\n",
        "sns.heatmap(conf_matrix, annot=True, fmt='d', cmap='Blues', cbar=False)\n",
        "plt.xlabel('Predicted')\n",
        "plt.ylabel('Actual')\n",
        "plt.title('Confusion Matrix')\n",
        "plt.show()"
      ],
      "metadata": {
        "trusted": true,
        "execution": {
          "iopub.status.busy": "2025-03-14T12:17:02.785357Z",
          "iopub.execute_input": "2025-03-14T12:17:02.785707Z",
          "iopub.status.idle": "2025-03-14T12:17:02.908796Z",
          "shell.execute_reply.started": "2025-03-14T12:17:02.785679Z",
          "shell.execute_reply": "2025-03-14T12:17:02.90764Z"
        },
        "id": "Qgmr6HQZQTzL",
        "outputId": "dc4f8c19-42f9-42c5-f9e6-26c5512d54af",
        "colab": {
          "base_uri": "https://localhost:8080/",
          "height": 487
        }
      },
      "outputs": [
        {
          "output_type": "display_data",
          "data": {
            "text/plain": [
              "<Figure size 500x500 with 1 Axes>"
            ],
            "image/png": "[encoded data removed]"
          },
          "metadata": {}
        }
      ],
      "execution_count": 34
    },
    {
      "cell_type": "code",
      "source": [
        "new_sample = np.array([\n",
        "    [1, 1, 1, 0, 0, 0, 1,   # One-hot encoded categorical features\n",
        "     1, 0, 1, 0, 1, 0, 1,\n",
        "     1, 0, 1,               # Binary encoded features\n",
        "     3, 2,                  # Ordinal encoded features (Education, Satisfaction)\n",
        "     40, 4, 30]             # Numerical features (Age, Children, Years of Marriage)\n",
        "])"
      ],
      "metadata": {
        "trusted": true,
        "execution": {
          "iopub.status.busy": "2025-03-14T12:17:07.543961Z",
          "iopub.execute_input": "2025-03-14T12:17:07.544366Z",
          "iopub.status.idle": "2025-03-14T12:17:07.549448Z",
          "shell.execute_reply.started": "2025-03-14T12:17:07.544335Z",
          "shell.execute_reply": "2025-03-14T12:17:07.54836Z"
        },
        "id": "cSIBKVyIQTzL"
      },
      "outputs": [],
      "execution_count": 35
    },
    {
      "cell_type": "markdown",
      "source": [
        "## Lets Predict a sample data"
      ],
      "metadata": {
        "id": "S1gTwRqbQTzL"
      }
    },
    {
      "cell_type": "code",
      "source": [
        "y_new=model.predict(new_sample)"
      ],
      "metadata": {
        "trusted": true,
        "execution": {
          "iopub.status.busy": "2025-03-14T12:17:11.582774Z",
          "iopub.execute_input": "2025-03-14T12:17:11.583127Z",
          "iopub.status.idle": "2025-03-14T12:17:11.597601Z",
          "shell.execute_reply.started": "2025-03-14T12:17:11.583099Z",
          "shell.execute_reply": "2025-03-14T12:17:11.596441Z"
        },
        "id": "lLnAxxI2QTzM",
        "outputId": "f1c7dd82-59b3-45ae-94cf-21338267cf81",
        "colab": {
          "base_uri": "https://localhost:8080/"
        }
      },
      "outputs": [
        {
          "output_type": "stream",
          "name": "stderr",
          "text": [
            "/usr/local/lib/python3.11/dist-packages/sklearn/utils/validation.py:2739: UserWarning: X does not have valid feature names, but RandomForestClassifier was fitted with feature names\n",
            "  warnings.warn(\n"
          ]
        }
      ],
      "execution_count": 36
    },
    {
      "cell_type": "markdown",
      "source": [
        "## Alas it Works!!!!"
      ],
      "metadata": {
        "id": "wHo42QegQTzM"
      }
    },
    {
      "cell_type": "code",
      "source": [
        "if y_new[0]==1:\n",
        "    years = new_sample[0][-1]\n",
        "    gender=new_sample[0][1]\n",
        "\n",
        "    a = 'He' if gender == 1 else 'She'\n",
        "    print(f'Yes,the {a} Gets divorced after {years} of Marriage')\n",
        "else:\n",
        "    a = 'He' if new_sample[0][1] == 1 else 'She'\n",
        "    print(f'No, {a} lives happily ever after.')\n"
      ],
      "metadata": {
        "trusted": true,
        "execution": {
          "iopub.status.busy": "2025-03-14T12:17:18.507506Z",
          "iopub.execute_input": "2025-03-14T12:17:18.507873Z",
          "iopub.status.idle": "2025-03-14T12:17:18.514788Z",
          "shell.execute_reply.started": "2025-03-14T12:17:18.507845Z",
          "shell.execute_reply": "2025-03-14T12:17:18.513455Z"
        },
        "id": "KWVBizEmQTzM",
        "outputId": "46bc4556-946b-4587-d3ab-9c51d97c627e",
        "colab": {
          "base_uri": "https://localhost:8080/"
        }
      },
      "outputs": [
        {
          "output_type": "stream",
          "name": "stdout",
          "text": [
            "No, He lives happily ever after.\n"
          ]
        }
      ],
      "execution_count": 37
    },
    {
      "cell_type": "markdown",
      "source": [
        "## Conclusion\n"
      ],
      "metadata": {
        "id": "wdt385joQTzM"
      }
    },
    {
      "cell_type": "markdown",
      "source": [
        "\n",
        "Based on My  analysis and predictive modeling, here are some actionable insights for reducing divorce risk:\n",
        "\n",
        "Target Key Risk Factors:\n",
        "The model identifies factors such as education level, parental approval, and financial stability as significant predictors. Interventions could focus on improving family communication and setting realistic expectations before marriage.\n",
        "\n",
        "Strengthen Pre-Marital Counseling:\n",
        "Encourage comprehensive pre-marital counseling that addresses conflict resolution, financial planning, and family dynamics to mitigate identified risks.\n",
        "\n",
        "Customized Relationship Support:\n",
        "Use the model’s insights to develop targeted support programs. For example, couples with lower parental approval or mismatched educational backgrounds may benefit from additional relationship coaching and mediation services.\n",
        "\n",
        "Early Warning Systems:\n",
        "Organizations (e.g., marriage counselors or community programs) can use these predictive insights to flag high-risk relationships early on and offer proactive interventions.\n",
        "\n",
        "Data-Driven Policy Making:\n",
        "Policy-makers and social service providers can utilize these insights to allocate resources more effectively, focusing on educational and economic support programs that may indirectly lower divorce rates.\n",
        "\n",
        "Implementing these strategies could help improve marital stability and reduce the likelihood of divorce, ultimately leading to healthier relationships and stronger communities."
      ],
      "metadata": {
        "id": "5s02hdH7QTzM"
      }
    }
  ]
}